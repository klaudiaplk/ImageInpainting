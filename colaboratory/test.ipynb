{
  "nbformat": 4,
  "nbformat_minor": 0,
  "metadata": {
    "colab": {
      "name": "test.ipynb",
      "provenance": [],
      "machine_shape": "hm",
      "background_execution": "on"
    },
    "kernelspec": {
      "name": "python3",
      "display_name": "Python 3"
    },
    "language_info": {
      "name": "python"
    },
    "accelerator": "GPU"
  },
  "cells": [
    {
      "cell_type": "markdown",
      "source": [
        "# Coherent Semantic Attention - Test \n",
        "\n",
        "Student: Klaudia Palak"
      ],
      "metadata": {
        "id": "qTvK2Gh8Thbf"
      }
    },
    {
      "cell_type": "code",
      "execution_count": null,
      "metadata": {
        "id": "XGhZOFswTLX4"
      },
      "outputs": [],
      "source": [
        "gpu_info = !nvidia-smi\n",
        "gpu_info = '\\n'.join(gpu_info)\n",
        "if gpu_info.find('failed') >= 0:\n",
        "  print('Not connected to a GPU')\n",
        "else:\n",
        "  print(gpu_info)"
      ]
    },
    {
      "cell_type": "markdown",
      "source": [
        "# Mount Google Drive"
      ],
      "metadata": {
        "id": "kJcEVbE9T1aP"
      }
    },
    {
      "cell_type": "code",
      "source": [
        "from google.colab import drive\n",
        "drive.mount('/content/drive')"
      ],
      "metadata": {
        "id": "kottZC7bT149"
      },
      "execution_count": null,
      "outputs": []
    },
    {
      "cell_type": "code",
      "source": [
        "import sys\n",
        "sys.path.insert(0,\"/content/drive/My Drive/Pliki do magisterki Klaudii/Coherent_Semantic_Attention_code\")"
      ],
      "metadata": {
        "id": "xH0RUrtAUDVU"
      },
      "execution_count": null,
      "outputs": []
    },
    {
      "cell_type": "code",
      "source": [
        "from IPython.display import clear_output \n",
        "# Unzip file - if you use Google GPU\n",
        "!unrar e \"/content/drive/My Drive/Pliki do magisterki Klaudii/Coherent_Semantic_Attention_code/mask10-20.rar\" /content/mask10-20/\n",
        "!unrar e \"/content/drive/My Drive/Pliki do magisterki Klaudii/Coherent_Semantic_Attention_code/mask20-30.rar\" /content/mask20-30/\n",
        "!unrar e \"/content/drive/My Drive/Pliki do magisterki Klaudii/Coherent_Semantic_Attention_code/mask30-40.rar\" /content/mask30-40/\n",
        "!unrar e \"/content/drive/My Drive/Pliki do magisterki Klaudii/Coherent_Semantic_Attention_code/mask40-50.rar\" /content/mask40-50/\n",
        "!unrar e \"/content/drive/My Drive/Pliki do magisterki Klaudii/Coherent_Semantic_Attention_code/places2_test.rar\" /content/test_dataset/\n",
        "clear_output()"
      ],
      "metadata": {
        "id": "N74Cmxo4UL0N"
      },
      "execution_count": null,
      "outputs": []
    },
    {
      "cell_type": "markdown",
      "source": [
        "# Libraries"
      ],
      "metadata": {
        "id": "G4M48DMHQhNa"
      }
    },
    {
      "cell_type": "code",
      "source": [
        "!pip install piqa"
      ],
      "metadata": {
        "id": "Qmxymr_DR8rg"
      },
      "execution_count": null,
      "outputs": []
    },
    {
      "cell_type": "code",
      "source": [
        "import time\n",
        "from utils.data_load import DataLoad\n",
        "from models.model import create_model\n",
        "import torch\n",
        "import os\n",
        "import torchvision\n",
        "import torch.nn.functional as F\n",
        "from torch.utils import data\n",
        "import torchvision.transforms as transforms\n",
        "\n",
        "from piqa import psnr, ssim \n",
        "from piqa.utils.functional import gaussian_kernel"
      ],
      "metadata": {
        "id": "LRZW6pBSQiGy"
      },
      "execution_count": null,
      "outputs": []
    },
    {
      "cell_type": "markdown",
      "source": [
        "# Settings"
      ],
      "metadata": {
        "id": "ncgsemjPR3-Y"
      }
    },
    {
      "cell_type": "code",
      "source": [
        "class Opion():\n",
        "    \n",
        "    def __init__(self):\n",
        "            \n",
        "        self.dataroot= r'/content/test_dataset' # image dataroot\n",
        "        self.maskroot= r'/content/mask40-50'# mask dataroot\n",
        "        self.batchSize= 1   # Need to be set to 1\n",
        "        self.fineSize=256 # image size\n",
        "        self.input_nc=3  # input channel size for first stage\n",
        "        self.input_nc_g=6 # input channel size for second stage\n",
        "        self.output_nc=3# output channel size\n",
        "        self.ngf=64 # inner channel\n",
        "        self.ndf=64# inner channel\n",
        "        self.which_model_netD='basic' # patch discriminator\n",
        "        self.which_model_netF='feature'# feature patch discriminator\n",
        "        self.which_model_netG='unet_csa'# seconde stage network\n",
        "        self.which_model_netP='unet_256'# first stage network\n",
        "        self.triple_weight=1\n",
        "        self.name='CSA_inpainting'\n",
        "        self.n_layers_D='3' # network depth\n",
        "        self.gpu_ids=[0]\n",
        "        self.model='csa_net'\n",
        "        self.checkpoints_dir=r'/content/drive/MyDrive/Pliki do magisterki Klaudii/Coherent_Semantic_Attention_code/checkpoints' # checkpoints folder\n",
        "        self.norm='instance'\n",
        "        self.fixed_mask=1\n",
        "        self.use_dropout=False\n",
        "        self.init_type='normal'\n",
        "        self.mask_type='random'\n",
        "        self.lambda_A=100\n",
        "        self.threshold=5/16.0\n",
        "        self.stride=1\n",
        "        self.shift_sz=1 # size of feature patch\n",
        "        self.mask_thred=1\n",
        "        self.bottleneck=512\n",
        "        self.gp_lambda=10.0\n",
        "        self.ncritic=5\n",
        "        self.constrain='MSE'\n",
        "        self.strength=1\n",
        "        self.init_gain=0.02\n",
        "        self.cosis=1\n",
        "        self.gan_type='lsgan'\n",
        "        self.gan_weight=0.2\n",
        "        self.ssim_weight=100\n",
        "        self.lorentzian_weight=10\n",
        "        self.overlap=4\n",
        "        self.skip=0\n",
        "        self.display_freq=10\n",
        "        self.print_freq=2\n",
        "        self.save_latest_freq=5\n",
        "        self.save_epoch_freq=2\n",
        "        self.continue_train=False\n",
        "        self.epoch_count=1\n",
        "        self.phase='test' # or train\n",
        "        self.which_epoch='118'\n",
        "        self.niter=2\n",
        "        self.niter_decay=4\n",
        "        self.beta1=0.5\n",
        "        self.lr=0.0002\n",
        "        self.lr_policy='lambda'\n",
        "        self.lr_decay_iters=50\n",
        "        self.isTrain=False\n",
        "        self.ssim_loss=False # or true if we want to use SSIM loss additionally\n",
        "        self.lorentzian_loss=False # or False if we want to use / don't use Lorentzian loss additionally\n",
        "        self.l1_weight=1.0"
      ],
      "metadata": {
        "id": "-1eRWXzTSFVA"
      },
      "execution_count": null,
      "outputs": []
    },
    {
      "cell_type": "markdown",
      "source": [
        "# Test Dataset"
      ],
      "metadata": {
        "id": "hn9cSqt4TOCB"
      }
    },
    {
      "cell_type": "code",
      "source": [
        "opt = Opion()\n",
        "transform_mask = transforms.Compose(\n",
        "    [transforms.Resize((opt.fineSize,opt.fineSize)),\n",
        "     transforms.ToTensor(),\n",
        "    ])\n",
        "transform = transforms.Compose(\n",
        "    [\n",
        "     transforms.Resize((opt.fineSize,opt.fineSize)),\n",
        "     transforms.ToTensor(),\n",
        "     transforms.Normalize(mean=[0.5] * 3, std=[0.5] * 3)])\n",
        "\n",
        "dataset_test = DataLoad(opt.dataroot, opt.maskroot, transform, transform_mask)\n",
        "iterator_test = (data.DataLoader(dataset_test, batch_size=opt.batchSize,shuffle=True))\n",
        "print(len(dataset_test))\n",
        "model = create_model(opt)\n",
        "total_steps = 0"
      ],
      "metadata": {
        "id": "dAGZuUeWTPiB"
      },
      "execution_count": null,
      "outputs": []
    },
    {
      "cell_type": "markdown",
      "source": [
        "# Metrics\n",
        "\n",
        "Metrics that were used to measure the correctness of the algorithm:\n",
        "\n",
        "PSNR - (Peak Signal-to-Noise Ratio)\n",
        "\n",
        "SSIM - (Structure Similarity Index Measure)\n",
        "\n",
        "MSE - (Mean Square Error)"
      ],
      "metadata": {
        "id": "lDKgKu_aTWio"
      }
    },
    {
      "cell_type": "code",
      "source": [
        "criterionMSE = torch.nn.MSELoss()"
      ],
      "metadata": {
        "id": "7izZ1lLqTXbY"
      },
      "execution_count": null,
      "outputs": []
    },
    {
      "cell_type": "markdown",
      "source": [
        "# Model Loading"
      ],
      "metadata": {
        "id": "79s-XQphTh_Y"
      }
    },
    {
      "cell_type": "code",
      "source": [
        "load_epoch=118\n",
        "model.load(load_epoch)"
      ],
      "metadata": {
        "id": "MSPAloh4TjFo"
      },
      "execution_count": null,
      "outputs": []
    },
    {
      "cell_type": "markdown",
      "source": [
        "# Model Testing"
      ],
      "metadata": {
        "id": "p2ioE8JITlLY"
      }
    },
    {
      "cell_type": "code",
      "source": [
        "psnr_results = []\n",
        "ssim_results = []\n",
        "mse_results = []"
      ],
      "metadata": {
        "id": "KQ74pO2iTnoI"
      },
      "execution_count": null,
      "outputs": []
    },
    {
      "cell_type": "code",
      "source": [
        "save_dir = '/content/drive/MyDrive/Pliki do magisterki Klaudii/Coherent_Semantic_Attention_code/checkpoints/true40-50_base_Places2'\n",
        "if os.path.exists(save_dir) is False:\n",
        "    os.makedirs(save_dir)\n",
        "\n",
        "for count, (image, mask) in enumerate(iterator_test):\n",
        "    iter_start_time = time.time()\n",
        "    image=image.cuda()\n",
        "    mask=mask.cuda()\n",
        "    mask=mask[0][0]\n",
        "    mask=torch.unsqueeze(mask,0)\n",
        "    mask=torch.unsqueeze(mask,1)\n",
        "    mask=mask.bool()\n",
        "\n",
        "    model.set_input(image,mask)\n",
        "    model.set_gt_latent()\n",
        "    model.test()\n",
        "    real_A,real_B,fake_B=model.get_current_visuals()\n",
        "    pic = (torch.cat([real_A, real_B,fake_B], dim=0) + 1) / 2.0\n",
        "    torchvision.utils.save_image(pic, '%s/Image_(%d)_(%dof%d).jpg' % (\n",
        "    save_dir, count, count + 1, len(dataset_test)), nrow=1)\n",
        "    \n",
        "    # Calculate MSE\n",
        "    acc_mse = criterionMSE(real_B, fake_B).item()\n",
        "    print(\"For {} batch:\".format(count + 1)) \n",
        "    print(\"MSE ==> {}\".format(acc_mse))\n",
        "    mse_results.append(acc_mse)\n",
        "    # Calculate PSNR\n",
        "    acc_psnr = psnr.psnr(real_B, fake_B).item()\n",
        "    print(\"{} ==> {}\".format(\"PSNR\", acc_psnr))\n",
        "    psnr_results.append(acc_psnr)\n",
        "    # Calculate SSIM\n",
        "    kernel = gaussian_kernel(11).repeat(3, 1, 1).cuda()\n",
        "    acc_ssim = ssim.ssim(real_B, fake_B, kernel)\n",
        "    print(\"{} ==> {}\".format(\"SSIM\", acc_ssim[0].item()))\n",
        "    ssim_results.append(acc_ssim[0].item())\n",
        "\n",
        "# MSE result for test data\n",
        "mse_test_data = sum(mse_results) / len(mse_results)\n",
        "print(\"MSE for test data is: {}\".format(mse_test_data))\n",
        "\n",
        "# PSNR result for test data\n",
        "psnr_test_data = sum(psnr_results) / len(psnr_results)\n",
        "print(\"PSNR for test data is: {}\".format(psnr_test_data))\n",
        "\n",
        "# SSIM result for test data\n",
        "ssim_test_data = sum(ssim_results) / len(ssim_results)\n",
        "print(\"SSIM for test data is: {}\".format(ssim_test_data))"
      ],
      "metadata": {
        "id": "j8EJEACbTpP4"
      },
      "execution_count": null,
      "outputs": []
    }
  ]
}